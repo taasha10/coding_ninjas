{
 "cells": [
  {
   "cell_type": "code",
   "execution_count": 1,
   "metadata": {
    "collapsed": true
   },
   "outputs": [],
   "source": [
    "import numpy as np"
   ]
  },
  {
   "cell_type": "code",
   "execution_count": 19,
   "metadata": {
    "collapsed": true
   },
   "outputs": [],
   "source": [
    "target = 100\n",
    "winning_prob = 0.6"
   ]
  },
  {
   "cell_type": "code",
   "execution_count": 23,
   "metadata": {
    "collapsed": true
   },
   "outputs": [],
   "source": [
    "board = np.zeros(target + 1)"
   ]
  },
  {
   "cell_type": "code",
   "execution_count": 24,
   "metadata": {
    "collapsed": true
   },
   "outputs": [],
   "source": [
    "def reward(next_state):\n",
    "    if (next_state == 0):\n",
    "        return -1\n",
    "    elif (next_state == target):\n",
    "        return 1\n",
    "    else:\n",
    "        return 0"
   ]
  },
  {
   "cell_type": "code",
   "execution_count": 25,
   "metadata": {},
   "outputs": [
    {
     "data": {
      "text/plain": [
       "0.80947758983233697"
      ]
     },
     "execution_count": 25,
     "metadata": {},
     "output_type": "execute_result"
    }
   ],
   "source": [
    "iter = 0\n",
    "while True:\n",
    "    iter += 1\n",
    "    newboard = np.zeros(target + 1)\n",
    "    for i in range(1, target):\n",
    "        actions = min(i, target - i)\n",
    "        expected_return = 0\n",
    "        for action in range(1,actions + 1):\n",
    "            expected_return += (1/actions)*(winning_prob*(reward(i + action) + board[i + action]) \n",
    "                         + ((1 - winning_prob) * (reward(i - action) + board[i - action]) ))\n",
    "        newboard[i] = expected_return\n",
    "    difference = np.abs(board - newboard)\n",
    "    differenceSum = difference.sum()\n",
    "    board = newboard\n",
    "    if (differenceSum < 0.01):\n",
    "        break\n",
    "iter\n",
    "board[75]"
   ]
  },
  {
   "cell_type": "code",
   "execution_count": 27,
   "metadata": {},
   "outputs": [
    {
     "name": "stdout",
     "output_type": "stream",
     "text": [
      "1   1\n",
      "2   1\n",
      "3   1\n",
      "4   2\n",
      "5   2\n",
      "6   3\n",
      "7   3\n",
      "8   3\n",
      "9   4\n",
      "10   4\n",
      "11   5\n",
      "12   5\n",
      "13   5\n",
      "14   6\n",
      "15   6\n",
      "16   6\n",
      "17   7\n",
      "18   7\n",
      "19   8\n",
      "20   8\n",
      "21   9\n",
      "22   9\n",
      "23   10\n",
      "24   10\n",
      "25   10\n",
      "26   10\n",
      "27   11\n",
      "28   11\n",
      "29   11\n",
      "30   11\n",
      "31   11\n",
      "32   11\n",
      "33   11\n",
      "34   11\n",
      "35   18\n",
      "36   18\n",
      "37   18\n",
      "38   18\n",
      "39   18\n",
      "40   18\n",
      "41   18\n",
      "42   18\n",
      "43   18\n",
      "44   17\n",
      "45   17\n",
      "46   17\n",
      "47   17\n",
      "48   17\n",
      "49   17\n",
      "50   17\n",
      "51   17\n",
      "52   17\n",
      "53   17\n",
      "54   17\n",
      "55   17\n",
      "56   18\n",
      "57   18\n",
      "58   18\n",
      "59   18\n",
      "60   17\n",
      "61   17\n",
      "62   17\n",
      "63   17\n",
      "64   10\n",
      "65   11\n",
      "66   11\n",
      "67   11\n",
      "68   10\n",
      "69   10\n",
      "70   10\n",
      "71   10\n",
      "72   10\n",
      "73   10\n",
      "74   9\n",
      "75   9\n",
      "76   9\n",
      "77   9\n",
      "78   8\n",
      "79   8\n",
      "80   7\n",
      "81   6\n",
      "82   6\n",
      "83   6\n",
      "84   6\n",
      "85   5\n",
      "86   5\n",
      "87   5\n",
      "88   4\n",
      "89   4\n",
      "90   4\n",
      "91   3\n",
      "92   3\n",
      "93   3\n",
      "94   2\n",
      "95   2\n",
      "96   2\n",
      "97   1\n",
      "98   1\n",
      "99   1\n"
     ]
    }
   ],
   "source": [
    "for i in range(1, target):\n",
    "    actions = min(i, target - i)\n",
    "    max_action = -1\n",
    "    max_return = -500\n",
    "    for action in range(1,actions + 1):\n",
    "        expected_return = (winning_prob*(reward(i + action) + board[i + action]) \n",
    "                         + ((1 - winning_prob) * (reward(i - action) + board[i - action]) ))\n",
    "        if (expected_return > max_return):\n",
    "            max_return = expected_return\n",
    "            max_action = action\n",
    "    print(i, \" \", max_action)"
   ]
  },
  {
   "cell_type": "code",
   "execution_count": null,
   "metadata": {
    "collapsed": true
   },
   "outputs": [],
   "source": []
  }
 ],
 "metadata": {
  "kernelspec": {
   "display_name": "Python 3",
   "language": "python",
   "name": "python3"
  },
  "language_info": {
   "codemirror_mode": {
    "name": "ipython",
    "version": 3
   },
   "file_extension": ".py",
   "mimetype": "text/x-python",
   "name": "python",
   "nbconvert_exporter": "python",
   "pygments_lexer": "ipython3",
   "version": "3.6.3"
  }
 },
 "nbformat": 4,
 "nbformat_minor": 1
}
