{
 "cells": [
  {
   "cell_type": "code",
   "execution_count": null,
   "metadata": {
    "collapsed": true
   },
   "outputs": [],
   "source": []
  },
  {
   "cell_type": "code",
   "execution_count": 3,
   "metadata": {
    "collapsed": true
   },
   "outputs": [],
   "source": [
    "import numpy as np\n",
    "import matplotlib.pyplot as plt"
   ]
  },
  {
   "cell_type": "code",
   "execution_count": 8,
   "metadata": {},
   "outputs": [],
   "source": [
    "x = np.array([[2,6], [3,4], [3,8], [4,7], [6,2], [6,4],[7,3],[7,4],[8,5],[7,6]])"
   ]
  },
  {
   "cell_type": "code",
   "execution_count": 21,
   "metadata": {
    "collapsed": true
   },
   "outputs": [],
   "source": [
    "class K_Mediods:\n",
    "    def __init__(self, k = 2, max_iter = 1000):\n",
    "        self.k = k\n",
    "        self.max_iter = max_iter\n",
    "    \n",
    "    def fit(self, data):\n",
    "        self.mediods = []\n",
    "        for i in range(self.k):\n",
    "            self.mediods.append(data[i])\n",
    "        self.labels = []\n",
    "        for it in range(self.max_iter):\n",
    "            cluster_points = []\n",
    "            for i in range(self.k):\n",
    "                cluster_points.append([])\n",
    "            cost1 = 0   \n",
    "            for point in data:\n",
    "                distance = [(abs(point - m)).sum() for m in self.mediods]\n",
    "                min_distance = min(distance)\n",
    "                cost1 = cost1 + min_distance\n",
    "                classification = distance.index(min_distance)\n",
    "                cluster_points[classification].append(point)\n",
    "                    \n",
    "            for i in range(self.k): #for every cluster_median_point\n",
    "                new_cost=0\n",
    "                for j in cluster_points[i]:\n",
    "                    for point in data:\n",
    "                        old_mediod=self.mediods[i]\n",
    "                        self.mediods[i]=j\n",
    "                        distance = [np.fabs((point - m)).sum() for m in self.mediods]\n",
    "                        min_distance = min(distance)\n",
    "                        new_cost+=min_distance\n",
    "                        if new_cost>cost1:\n",
    "                            self.mediods[i]=old_mediod   \n",
    "                            \n",
    "        self.labels = self.predict(data)\n",
    "    \n",
    "    def predict(self, test_data):\n",
    "        cluster_pred = []\n",
    "        for point in test_data:\n",
    "            distances = [(abs(point - m)).sum() for m in self.mediods]\n",
    "            min_distance = min(distances)\n",
    "            classification = distances.index(min_distance)\n",
    "            cluster_pred.append(classification)\n",
    "        return cluster_pred"
   ]
  },
  {
   "cell_type": "code",
   "execution_count": 22,
   "metadata": {
    "collapsed": true
   },
   "outputs": [],
   "source": [
    "c = K_Mediods()"
   ]
  },
  {
   "cell_type": "code",
   "execution_count": 25,
   "metadata": {},
   "outputs": [],
   "source": [
    "c.fit(x)"
   ]
  },
  {
   "cell_type": "code",
   "execution_count": 26,
   "metadata": {},
   "outputs": [
    {
     "data": {
      "image/png": "[encoded data removed]",
      "text/plain": [
       "<matplotlib.figure.Figure at 0x11470c9b0>"
      ]
     },
     "metadata": {},
     "output_type": "display_data"
    }
   ],
   "source": [
    "plt.scatter(x[:,0], x[:,1], c=c.labels)\n",
    "plt.show()"
   ]
  },
  {
   "cell_type": "code",
   "execution_count": 31,
   "metadata": {
    "collapsed": true
   },
   "outputs": [],
   "source": [
    "l = len(X[:,0])\n",
    "d = [[0 for x in range(l)] for y in range(l)] \n",
    "for i in range(l):\n",
    "    for j in range(l):\n",
    "        d[j][i] = abs(X[i,0] - X[j,0])"
   ]
  },
  {
   "cell_type": "code",
   "execution_count": 34,
   "metadata": {},
   "outputs": [
    {
     "data": {
      "text/plain": [
       "0.5"
      ]
     },
     "execution_count": 34,
     "metadata": {},
     "output_type": "execute_result"
    }
   ],
   "source": [
    "d[0][1]"
   ]
  },
  {
   "cell_type": "code",
   "execution_count": null,
   "metadata": {
    "collapsed": true
   },
   "outputs": [],
   "source": []
  }
 ],
 "metadata": {
  "kernelspec": {
   "display_name": "Python 3",
   "language": "python",
   "name": "python3"
  },
  "language_info": {
   "codemirror_mode": {
    "name": "ipython",
    "version": 3
   },
   "file_extension": ".py",
   "mimetype": "text/x-python",
   "name": "python",
   "nbconvert_exporter": "python",
   "pygments_lexer": "ipython3",
   "version": "3.6.3"
  }
 },
 "nbformat": 4,
 "nbformat_minor": 2
}
