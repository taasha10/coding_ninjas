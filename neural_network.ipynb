{
 "cells": [
  {
   "cell_type": "code",
   "execution_count": 1,
   "metadata": {
    "collapsed": true
   },
   "outputs": [],
   "source": [
    "import numpy as np"
   ]
  },
  {
   "cell_type": "code",
   "execution_count": 13,
   "metadata": {
    "collapsed": true
   },
   "outputs": [],
   "source": [
    "def sig(z):   #z is np array\n",
    "    return 1/(1+ np.exp(-z))"
   ]
  },
  {
   "cell_type": "code",
   "execution_count": 3,
   "metadata": {
    "collapsed": true
   },
   "outputs": [],
   "source": [
    "def derivativeSig(sig_out):\n",
    "    return sig_out*(1 - sig_out)"
   ]
  },
  {
   "cell_type": "code",
   "execution_count": 5,
   "metadata": {
    "collapsed": true
   },
   "outputs": [],
   "source": [
    "x = np.array([[0,0,1],\n",
    "            [0,1,1],\n",
    "            [1,0,1],\n",
    "            [1,1,1]])\n",
    "\n",
    "y = np.array([[0,0,1,1]]).T"
   ]
  },
  {
   "cell_type": "code",
   "execution_count": 10,
   "metadata": {},
   "outputs": [
    {
     "data": {
      "text/plain": [
       "array([[ 0.16417727],\n",
       "       [ 0.42714051],\n",
       "       [ 0.5367075 ]])"
      ]
     },
     "execution_count": 10,
     "metadata": {},
     "output_type": "execute_result"
    }
   ],
   "source": [
    "weights = 2 * np.random.random((3,1)) - 1     # random weights between -1 to 1\n",
    "weights"
   ]
  },
  {
   "cell_type": "code",
   "execution_count": 22,
   "metadata": {
    "scrolled": true
   },
   "outputs": [
    {
     "data": {
      "text/plain": [
       "(array([[ 0.52222107],\n",
       "        [ 0.13223378],\n",
       "        [ 0.52222107],\n",
       "        [ 0.89239662]]), array([[ 3.90786663],\n",
       "        [-1.88135089],\n",
       "        [ 0.08894288]]))"
      ]
     },
     "execution_count": 22,
     "metadata": {},
     "output_type": "execute_result"
    }
   ],
   "source": [
    "for iter in range(1000):\n",
    "    Output0 = x\n",
    "    Output1 = sig(np.dot(Output0, weights))\n",
    "    # Output1\n",
    "\n",
    "    first_term = Output1 - y\n",
    "    second_term = derivativeSig(Output1)\n",
    "    first_two = first_term * second_term    #common part for all weights\n",
    "    third_term = Output0\n",
    "    # changes = np.array([[0,0,0]])\n",
    "    # for i in range(3):\n",
    "    #     for j in range(4):\n",
    "    #         changes[0][i] = changes[0][i] + first_two[j][0] * third_term[j][i]\n",
    "\n",
    "    net_change = np.dot(Output0.T,first_two)\n",
    "    learning_rate = 0.1\n",
    "    weights = weights - learning_rate*net_change\n",
    "    #print(weights)\n",
    "Output1 = sig(np.dot(x,weights))\n",
    "Output1,weights"
   ]
  },
  {
   "cell_type": "code",
   "execution_count": 28,
   "metadata": {},
   "outputs": [],
   "source": [
    "weights0 = 2 * np.random.random((3,4)) - 1\n",
    "weights1 = 2 * np.random.random((4,1)) - 1"
   ]
  },
  {
   "cell_type": "code",
   "execution_count": 32,
   "metadata": {},
   "outputs": [
    {
     "data": {
      "text/plain": [
       "array([[ 0.53773425],\n",
       "       [ 0.1656489 ],\n",
       "       [ 0.53773425],\n",
       "       [ 0.7847376 ]])"
      ]
     },
     "execution_count": 32,
     "metadata": {},
     "output_type": "execute_result"
    }
   ],
   "source": [
    "for i in range(1000):\n",
    "    \n",
    "    layer1 = sig(np.dot(layer0,weights0))\n",
    "    layer2 = sig(np.dot(layer1,weights1))\n",
    "\n",
    "    l2_error = layer2 - y\n",
    "    l2_delta = l2_error * derivativeSig(layer2)\n",
    "    net_change2 = np.dot(layer1.T,l2_delta)\n",
    "\n",
    "    l1_error = l2_delta.dot(weights1.T)   #error of each training data point distributes acc to weights 4*4\n",
    "    l1_delta = l1_error * derivativeSig(layer1)\n",
    "    net_change1 = np.dot(layer0.T,l1_delta)\n",
    "\n",
    "    weights0 = weights0 - learning_rate*net_change1\n",
    "    weights1 = weights1 - learning_rate*net_change2\n",
    "layer0 = x\n",
    "layer1 = sig(np.dot(layer0,weights0))\n",
    "layer2 = sig(np.dot(layer1,weights1))\n",
    "layer2"
   ]
  },
  {
   "cell_type": "code",
   "execution_count": null,
   "metadata": {
    "collapsed": true
   },
   "outputs": [],
   "source": []
  }
 ],
 "metadata": {
  "kernelspec": {
   "display_name": "Python 3",
   "language": "python",
   "name": "python3"
  },
  "language_info": {
   "codemirror_mode": {
    "name": "ipython",
    "version": 3
   },
   "file_extension": ".py",
   "mimetype": "text/x-python",
   "name": "python",
   "nbconvert_exporter": "python",
   "pygments_lexer": "ipython3",
   "version": "3.6.3"
  }
 },
 "nbformat": 4,
 "nbformat_minor": 2
}
