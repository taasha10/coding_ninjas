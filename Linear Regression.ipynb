{
 "cells": [
  {
   "cell_type": "code",
   "execution_count": 23,
   "metadata": {
    "collapsed": true
   },
   "outputs": [],
   "source": [
    "import numpy as np\n",
    "import pandas as pd\n",
    "from sklearn.linear_model import LinearRegression\n",
    "from sklearn import datasets\n",
    "import matplotlib.pyplot as plt\n",
    "%matplotlib inline"
   ]
  },
  {
   "cell_type": "code",
   "execution_count": 24,
   "metadata": {
    "collapsed": true
   },
   "outputs": [],
   "source": [
    "boston = datasets.load_boston()"
   ]
  },
  {
   "cell_type": "code",
   "execution_count": 25,
   "metadata": {},
   "outputs": [
    {
     "data": {
      "text/html": [
       "<div>\n",
       "<style>\n",
       "    .dataframe thead tr:only-child th {\n",
       "        text-align: right;\n",
       "    }\n",
       "\n",
       "    .dataframe thead th {\n",
       "        text-align: left;\n",
       "    }\n",
       "\n",
       "    .dataframe tbody tr th {\n",
       "        vertical-align: top;\n",
       "    }\n",
       "</style>\n",
       "<table border=\"1\" class=\"dataframe\">\n",
       "  <thead>\n",
       "    <tr style=\"text-align: right;\">\n",
       "      <th></th>\n",
       "      <th>0</th>\n",
       "      <th>1</th>\n",
       "      <th>2</th>\n",
       "      <th>3</th>\n",
       "      <th>4</th>\n",
       "      <th>5</th>\n",
       "      <th>6</th>\n",
       "      <th>7</th>\n",
       "      <th>8</th>\n",
       "      <th>9</th>\n",
       "      <th>10</th>\n",
       "      <th>11</th>\n",
       "      <th>12</th>\n",
       "    </tr>\n",
       "  </thead>\n",
       "  <tbody>\n",
       "    <tr>\n",
       "      <th>0</th>\n",
       "      <td>0.00632</td>\n",
       "      <td>18.0</td>\n",
       "      <td>2.31</td>\n",
       "      <td>0.0</td>\n",
       "      <td>0.538</td>\n",
       "      <td>6.575</td>\n",
       "      <td>65.2</td>\n",
       "      <td>4.0900</td>\n",
       "      <td>1.0</td>\n",
       "      <td>296.0</td>\n",
       "      <td>15.3</td>\n",
       "      <td>396.90</td>\n",
       "      <td>4.98</td>\n",
       "    </tr>\n",
       "    <tr>\n",
       "      <th>1</th>\n",
       "      <td>0.02731</td>\n",
       "      <td>0.0</td>\n",
       "      <td>7.07</td>\n",
       "      <td>0.0</td>\n",
       "      <td>0.469</td>\n",
       "      <td>6.421</td>\n",
       "      <td>78.9</td>\n",
       "      <td>4.9671</td>\n",
       "      <td>2.0</td>\n",
       "      <td>242.0</td>\n",
       "      <td>17.8</td>\n",
       "      <td>396.90</td>\n",
       "      <td>9.14</td>\n",
       "    </tr>\n",
       "    <tr>\n",
       "      <th>2</th>\n",
       "      <td>0.02729</td>\n",
       "      <td>0.0</td>\n",
       "      <td>7.07</td>\n",
       "      <td>0.0</td>\n",
       "      <td>0.469</td>\n",
       "      <td>7.185</td>\n",
       "      <td>61.1</td>\n",
       "      <td>4.9671</td>\n",
       "      <td>2.0</td>\n",
       "      <td>242.0</td>\n",
       "      <td>17.8</td>\n",
       "      <td>392.83</td>\n",
       "      <td>4.03</td>\n",
       "    </tr>\n",
       "    <tr>\n",
       "      <th>3</th>\n",
       "      <td>0.03237</td>\n",
       "      <td>0.0</td>\n",
       "      <td>2.18</td>\n",
       "      <td>0.0</td>\n",
       "      <td>0.458</td>\n",
       "      <td>6.998</td>\n",
       "      <td>45.8</td>\n",
       "      <td>6.0622</td>\n",
       "      <td>3.0</td>\n",
       "      <td>222.0</td>\n",
       "      <td>18.7</td>\n",
       "      <td>394.63</td>\n",
       "      <td>2.94</td>\n",
       "    </tr>\n",
       "    <tr>\n",
       "      <th>4</th>\n",
       "      <td>0.06905</td>\n",
       "      <td>0.0</td>\n",
       "      <td>2.18</td>\n",
       "      <td>0.0</td>\n",
       "      <td>0.458</td>\n",
       "      <td>7.147</td>\n",
       "      <td>54.2</td>\n",
       "      <td>6.0622</td>\n",
       "      <td>3.0</td>\n",
       "      <td>222.0</td>\n",
       "      <td>18.7</td>\n",
       "      <td>396.90</td>\n",
       "      <td>5.33</td>\n",
       "    </tr>\n",
       "  </tbody>\n",
       "</table>\n",
       "</div>"
      ],
      "text/plain": [
       "        0     1     2    3      4      5     6       7    8      9     10  \\\n",
       "0  0.00632  18.0  2.31  0.0  0.538  6.575  65.2  4.0900  1.0  296.0  15.3   \n",
       "1  0.02731   0.0  7.07  0.0  0.469  6.421  78.9  4.9671  2.0  242.0  17.8   \n",
       "2  0.02729   0.0  7.07  0.0  0.469  7.185  61.1  4.9671  2.0  242.0  17.8   \n",
       "3  0.03237   0.0  2.18  0.0  0.458  6.998  45.8  6.0622  3.0  222.0  18.7   \n",
       "4  0.06905   0.0  2.18  0.0  0.458  7.147  54.2  6.0622  3.0  222.0  18.7   \n",
       "\n",
       "       11    12  \n",
       "0  396.90  4.98  \n",
       "1  396.90  9.14  \n",
       "2  392.83  4.03  \n",
       "3  394.63  2.94  \n",
       "4  396.90  5.33  "
      ]
     },
     "execution_count": 25,
     "metadata": {},
     "output_type": "execute_result"
    }
   ],
   "source": [
    "df = pd.DataFrame(boston.data)\n",
    "df.head()"
   ]
  },
  {
   "cell_type": "code",
   "execution_count": 26,
   "metadata": {
    "collapsed": true
   },
   "outputs": [],
   "source": [
    "target = boston.target"
   ]
  },
  {
   "cell_type": "code",
   "execution_count": 27,
   "metadata": {},
   "outputs": [
    {
     "name": "stdout",
     "output_type": "stream",
     "text": [
      "[ 24.   21.6  34.7  33.4  36.2] (506,)\n"
     ]
    }
   ],
   "source": [
    "print(target[:5], target.shape)"
   ]
  },
  {
   "cell_type": "code",
   "execution_count": 28,
   "metadata": {},
   "outputs": [
    {
     "data": {
      "text/plain": [
       "array([ 24. ,  21.6,  34.7,  33.4,  36.2])"
      ]
     },
     "execution_count": 28,
     "metadata": {},
     "output_type": "execute_result"
    }
   ],
   "source": [
    "target = np.array(target)\n",
    "target = target.astype('float64')\n",
    "target[:5]"
   ]
  },
  {
   "cell_type": "code",
   "execution_count": 29,
   "metadata": {
    "collapsed": true
   },
   "outputs": [],
   "source": [
    "X_data = np.zeros((df.shape[0], df.shape[1]+1))"
   ]
  },
  {
   "cell_type": "code",
   "execution_count": 30,
   "metadata": {},
   "outputs": [
    {
     "name": "stdout",
     "output_type": "stream",
     "text": [
      "(506, 14)\n"
     ]
    }
   ],
   "source": [
    "print(X_data.shape)"
   ]
  },
  {
   "cell_type": "code",
   "execution_count": 31,
   "metadata": {
    "collapsed": true
   },
   "outputs": [],
   "source": [
    "X_data = X_data-np.mean(X_data,axis=0)"
   ]
  },
  {
   "cell_type": "code",
   "execution_count": 32,
   "metadata": {
    "collapsed": true
   },
   "outputs": [],
   "source": [
    "X_data[:, 1:] = df.values\n",
    "X_data[:, 0] = 1"
   ]
  },
  {
   "cell_type": "code",
   "execution_count": 33,
   "metadata": {
    "collapsed": true
   },
   "outputs": [],
   "source": [
    "weights = np.ones(df.shape[1]+1)"
   ]
  },
  {
   "cell_type": "code",
   "execution_count": 34,
   "metadata": {},
   "outputs": [
    {
     "data": {
      "text/plain": [
       "(14,)"
      ]
     },
     "execution_count": 34,
     "metadata": {},
     "output_type": "execute_result"
    }
   ],
   "source": [
    "weights.shape"
   ]
  },
  {
   "cell_type": "code",
   "execution_count": 35,
   "metadata": {},
   "outputs": [
    {
     "data": {
      "text/plain": [
       "array([  1.00000000e+00,   6.32000000e-03,   1.80000000e+01,\n",
       "         2.31000000e+00,   0.00000000e+00,   5.38000000e-01,\n",
       "         6.57500000e+00,   6.52000000e+01,   4.09000000e+00,\n",
       "         1.00000000e+00,   2.96000000e+02,   1.53000000e+01,\n",
       "         3.96900000e+02,   4.98000000e+00])"
      ]
     },
     "execution_count": 35,
     "metadata": {},
     "output_type": "execute_result"
    }
   ],
   "source": [
    "X_data[0, :]"
   ]
  },
  {
   "cell_type": "code",
   "execution_count": 36,
   "metadata": {
    "collapsed": true
   },
   "outputs": [],
   "source": [
    "from sklearn.model_selection import train_test_split"
   ]
  },
  {
   "cell_type": "code",
   "execution_count": 37,
   "metadata": {
    "collapsed": true
   },
   "outputs": [],
   "source": [
    "X_train, X_test, y_train, y_test = train_test_split(X_data, target, shuffle=True, test_size=0.20)"
   ]
  },
  {
   "cell_type": "code",
   "execution_count": 38,
   "metadata": {},
   "outputs": [
    {
     "name": "stdout",
     "output_type": "stream",
     "text": [
      "(404, 14) (102, 14)\n"
     ]
    }
   ],
   "source": [
    "print(X_train.shape, X_test.shape)"
   ]
  },
  {
   "cell_type": "code",
   "execution_count": 39,
   "metadata": {
    "collapsed": true
   },
   "outputs": [],
   "source": [
    "def predict(X, W):\n",
    "    #X is a vector\n",
    "    pred_y = X.T.dot(W)\n",
    "    #print(pred_y)\n",
    "    return X.T.dot(W)"
   ]
  },
  {
   "cell_type": "code",
   "execution_count": 40,
   "metadata": {
    "collapsed": true
   },
   "outputs": [],
   "source": [
    "def gradient_descent(X, W, y, num_iter=500, alpha=0.001):\n",
    "    #X, is matrix of n*m, n = #iterations, m = #features\n",
    "    num_examples = X.shape[0]\n",
    "    for iteration in range(num_iter):\n",
    "        \n",
    "        for i in range(num_examples):\n",
    "            pred_y = predict(X[i],W)\n",
    "            W = W - (alpha*(pred_y-y[i])*X[i])/num_examples\n",
    "    return W"
   ]
  },
  {
   "cell_type": "code",
   "execution_count": 41,
   "metadata": {
    "collapsed": true
   },
   "outputs": [],
   "source": [
    "weights = gradient_descent(X_train, weights, y_train)"
   ]
  },
  {
   "cell_type": "code",
   "execution_count": 42,
   "metadata": {
    "collapsed": true
   },
   "outputs": [],
   "source": [
    "def cost(X, W, y):\n",
    "    pred_y = np.zeros(y.shape[0])\n",
    "    #X is a matrix\n",
    "    for i in range(y.shape[0]):\n",
    "        pred_y[i] = X[i].T.dot(W)\n",
    "        print(np.square(pred_y[i]-y[i]))\n",
    "        print(\"Predicted Value = \", pred_y[i], \"Actual Value = \", y[i])\n",
    "    return pred_y"
   ]
  },
  {
   "cell_type": "code",
   "execution_count": 43,
   "metadata": {},
   "outputs": [
    {
     "name": "stdout",
     "output_type": "stream",
     "text": [
      "14.9016347328\n",
      "Predicted Value =  28.6602635574 Actual Value =  24.8\n",
      "1.57981652679\n",
      "Predicted Value =  20.2569075252 Actual Value =  19.0\n",
      "289.869403224\n",
      "Predicted Value =  32.9744485192 Actual Value =  50.0\n",
      "9.10881748961\n",
      "Predicted Value =  30.7819182434 Actual Value =  33.8\n",
      "7.84216204143\n",
      "Predicted Value =  25.5003860522 Actual Value =  22.7\n",
      "33.0805792475\n",
      "Predicted Value =  20.6515718936 Actual Value =  14.9\n",
      "45.4252494478\n",
      "Predicted Value =  27.0398256244 Actual Value =  20.3\n",
      "85.0297082896\n",
      "Predicted Value =  27.7211554748 Actual Value =  18.5\n",
      "52.2332534149\n",
      "Predicted Value =  26.5272576691 Actual Value =  19.3\n",
      "112.787160789\n",
      "Predicted Value =  32.5201299799 Actual Value =  21.9\n",
      "0.0723391500057\n",
      "Predicted Value =  37.5689593836 Actual Value =  37.3\n",
      "78.6262223589\n",
      "Predicted Value =  23.1671428521 Actual Value =  14.3\n",
      "25.0631292712\n",
      "Predicted Value =  23.7063089468 Actual Value =  18.7\n",
      "66.2475083653\n",
      "Predicted Value =  16.5392572367 Actual Value =  8.4\n",
      "8.55832394114\n",
      "Predicted Value =  10.3254613211 Actual Value =  7.4\n",
      "43.8837861232\n",
      "Predicted Value =  33.1755161618 Actual Value =  39.8\n",
      "9.48136485993\n",
      "Predicted Value =  11.1791824986 Actual Value =  8.1\n",
      "23.6305547635\n",
      "Predicted Value =  23.6611269026 Actual Value =  18.8\n",
      "72.2677577872\n",
      "Predicted Value =  33.5010445115 Actual Value =  25.0\n",
      "19.5398642408\n",
      "Predicted Value =  28.8203918651 Actual Value =  24.4\n",
      "28.3517836209\n",
      "Predicted Value =  28.9246392949 Actual Value =  23.6\n",
      "20.701521917\n",
      "Predicted Value =  29.0498925171 Actual Value =  24.5\n",
      "49.1324384572\n",
      "Predicted Value =  29.0094535063 Actual Value =  22.0\n",
      "46.3115868555\n",
      "Predicted Value =  29.8052617037 Actual Value =  23.0\n",
      "3.92012188676\n",
      "Predicted Value =  22.4799297681 Actual Value =  20.5\n",
      "0.058329183492\n",
      "Predicted Value =  30.0415143546 Actual Value =  29.8\n",
      "18.4970620883\n",
      "Predicted Value =  22.8008210947 Actual Value =  18.5\n",
      "10.551528575\n",
      "Predicted Value =  27.5483116499 Actual Value =  24.3\n",
      "6.94567232545\n",
      "Predicted Value =  35.9354643472 Actual Value =  33.3\n",
      "39.4196378679\n",
      "Predicted Value =  27.678506022 Actual Value =  21.4\n",
      "3.88559400492\n",
      "Predicted Value =  25.8711910118 Actual Value =  23.9\n",
      "40.0333589042\n",
      "Predicted Value =  29.2271920237 Actual Value =  22.9\n",
      "0.80366139846\n",
      "Predicted Value =  24.0964716384 Actual Value =  23.2\n",
      "0.0414085323117\n",
      "Predicted Value =  23.3034908654 Actual Value =  23.1\n",
      "207.079636588\n",
      "Predicted Value =  26.9902618666 Actual Value =  12.6\n",
      "62.3741572634\n",
      "Predicted Value =  22.3977311466 Actual Value =  14.5\n",
      "115.209005714\n",
      "Predicted Value =  32.7335458127 Actual Value =  22.0\n",
      "66.4630551181\n",
      "Predicted Value =  29.7524876644 Actual Value =  21.6\n",
      "2.15455296094\n",
      "Predicted Value =  26.6678395556 Actual Value =  25.2\n",
      "1.11137284973\n",
      "Predicted Value =  34.1457833004 Actual Value =  35.2\n",
      "0.00508118097621\n",
      "Predicted Value =  20.271282403 Actual Value =  20.2\n",
      "0.787607491641\n",
      "Predicted Value =  24.0874725301 Actual Value =  23.2\n",
      "33.2721207568\n",
      "Predicted Value =  28.1681990913 Actual Value =  22.4\n",
      "36.8220626407\n",
      "Predicted Value =  16.9681185421 Actual Value =  10.9\n",
      "18.549592355\n",
      "Predicted Value =  25.5069237694 Actual Value =  21.2\n",
      "58.2347765176\n",
      "Predicted Value =  28.2311713726 Actual Value =  20.6\n",
      "4.7224632838\n",
      "Predicted Value =  32.5268770666 Actual Value =  34.7\n",
      "0.854443725846\n",
      "Predicted Value =  23.4756387471 Actual Value =  24.4\n",
      "4.59791004829\n",
      "Predicted Value =  21.6557262189 Actual Value =  23.8\n",
      "10.2612646536\n",
      "Predicted Value =  24.703320879 Actual Value =  21.5\n",
      "54.5168841835\n",
      "Predicted Value =  21.2835549828 Actual Value =  13.9\n",
      "0.966129376594\n",
      "Predicted Value =  21.6170811953 Actual Value =  22.6\n",
      "0.000677174388371\n",
      "Predicted Value =  10.3739774254 Actual Value =  10.4\n",
      "0.477191372086\n",
      "Predicted Value =  11.1092096034 Actual Value =  11.8\n",
      "39.2743203751\n",
      "Predicted Value =  18.0669227197 Actual Value =  11.8\n",
      "35.029363232\n",
      "Predicted Value =  31.0814390911 Actual Value =  37.0\n",
      "346.288200053\n",
      "Predicted Value =  5.09117950935 Actual Value =  23.7\n",
      "31.2894897615\n",
      "Predicted Value =  33.7937009003 Actual Value =  28.2\n",
      "38.1336742268\n",
      "Predicted Value =  31.024753104 Actual Value =  37.2\n",
      "50.7379104838\n",
      "Predicted Value =  25.2230548562 Actual Value =  18.1\n",
      "99.6617493642\n",
      "Predicted Value =  26.2169268577 Actual Value =  36.2\n",
      "2.54439272592\n",
      "Predicted Value =  31.1951152704 Actual Value =  29.6\n",
      "35.9781232577\n",
      "Predicted Value =  28.9981766611 Actual Value =  23.0\n",
      "116.809050297\n",
      "Predicted Value =  29.4078235689 Actual Value =  18.6\n",
      "82.3474837253\n",
      "Predicted Value =  39.4254485662 Actual Value =  48.5\n",
      "25.1177906834\n",
      "Predicted Value =  18.4117652263 Actual Value =  13.4\n",
      "79.7095663261\n",
      "Predicted Value =  28.5280214116 Actual Value =  19.6\n",
      "63.0214343831\n",
      "Predicted Value =  28.0386040576 Actual Value =  20.1\n",
      "2.88747589159\n",
      "Predicted Value =  20.000742547 Actual Value =  21.7\n",
      "5.06152553014\n",
      "Predicted Value =  30.9497834407 Actual Value =  28.7\n",
      "27.1329588682\n",
      "Predicted Value =  31.9089306838 Actual Value =  26.7\n",
      "3.43922465933\n",
      "Predicted Value =  15.2545146695 Actual Value =  13.4\n",
      "43.7754946254\n",
      "Predicted Value =  20.1163052095 Actual Value =  13.5\n",
      "0.0666476344716\n",
      "Predicted Value =  17.0418379686 Actual Value =  17.3\n",
      "84.7373707031\n",
      "Predicted Value =  24.805290365 Actual Value =  15.6\n",
      "2.36279126616\n",
      "Predicted Value =  31.8371373609 Actual Value =  30.3\n",
      "29.7227087639\n",
      "Predicted Value =  15.8518536998 Actual Value =  10.4\n",
      "3.85457307162\n",
      "Predicted Value =  25.3633066677 Actual Value =  23.4\n",
      "8.36888032876\n",
      "Predicted Value =  22.3929017143 Actual Value =  19.5\n",
      "16.2048161913\n",
      "Predicted Value =  26.6744793888 Actual Value =  30.7\n",
      "46.3766771441\n",
      "Predicted Value =  25.2100423746 Actual Value =  18.4\n",
      "44.8606560889\n",
      "Predicted Value =  28.6978097979 Actual Value =  22.0\n",
      "24.2801698889\n",
      "Predicted Value =  28.7274912368 Actual Value =  23.8\n",
      "12.1226107997\n",
      "Predicted Value =  32.6182460168 Actual Value =  36.1\n",
      "38.7181074961\n",
      "Predicted Value =  29.5223876041 Actual Value =  23.3\n",
      "146.906287256\n",
      "Predicted Value =  37.8795096116 Actual Value =  50.0\n",
      "133.761154117\n",
      "Predicted Value =  24.8655157307 Actual Value =  13.3\n",
      "22.7982720673\n",
      "Predicted Value =  27.9747536133 Actual Value =  23.2\n",
      "25.8490042436\n",
      "Predicted Value =  19.0841916018 Actual Value =  14.0\n",
      "71.4803049944\n",
      "Predicted Value =  31.1546025923 Actual Value =  22.7\n",
      "107.438070137\n",
      "Predicted Value =  19.9652337232 Actual Value =  9.6\n",
      "103.673309077\n",
      "Predicted Value =  28.5820090884 Actual Value =  18.4\n",
      "5.52778382798\n",
      "Predicted Value =  24.0511239499 Actual Value =  21.7\n",
      "144.375255425\n",
      "Predicted Value =  36.2843745304 Actual Value =  48.3\n",
      "60.2778880814\n",
      "Predicted Value =  28.7638835695 Actual Value =  21.0\n",
      "12.9503911566\n",
      "Predicted Value =  28.598665191 Actual Value =  25.0\n",
      "63.655517314\n",
      "Predicted Value =  22.2784407821 Actual Value =  14.3\n",
      "55.1986653781\n",
      "Predicted Value =  27.4295804308 Actual Value =  20.0\n",
      "73.828571564\n",
      "Predicted Value =  24.6923554142 Actual Value =  16.1\n",
      "85.6669214492\n",
      "Predicted Value =  28.8556426816 Actual Value =  19.6\n",
      "33.457055561\n",
      "Predicted Value =  30.1842074272 Actual Value =  24.4\n",
      "13.2252718903\n",
      "Predicted Value =  18.6366566913 Actual Value =  15.0\n"
     ]
    }
   ],
   "source": [
    "pred_y = cost(X_test,weights, y_test)"
   ]
  },
  {
   "cell_type": "code",
   "execution_count": 44,
   "metadata": {},
   "outputs": [
    {
     "data": {
      "text/plain": [
       "<matplotlib.collections.PathCollection at 0x1168feb00>"
      ]
     },
     "execution_count": 44,
     "metadata": {},
     "output_type": "execute_result"
    },
    {
     "data": {
      "image/png": "[encoded data removed]",
      "text/plain": [
       "<matplotlib.figure.Figure at 0x1113b7898>"
      ]
     },
     "metadata": {},
     "output_type": "display_data"
    }
   ],
   "source": [
    "plt.figure(figsize=(5,5))\n",
    "plt.scatter(pred_y, y_test)"
   ]
  },
  {
   "cell_type": "code",
   "execution_count": null,
   "metadata": {
    "collapsed": true
   },
   "outputs": [],
   "source": []
  }
 ],
 "metadata": {
  "kernelspec": {
   "display_name": "Python 3",
   "language": "python",
   "name": "python3"
  },
  "language_info": {
   "codemirror_mode": {
    "name": "ipython",
    "version": 3
   },
   "file_extension": ".py",
   "mimetype": "text/x-python",
   "name": "python",
   "nbconvert_exporter": "python",
   "pygments_lexer": "ipython3",
   "version": "3.6.3"
  }
 },
 "nbformat": 4,
 "nbformat_minor": 2
}
