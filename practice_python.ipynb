{
 "cells": [
  {
   "cell_type": "code",
   "execution_count": 3,
   "metadata": {},
   "outputs": [
    {
     "name": "stdout",
     "output_type": "stream",
     "text": [
      "10\n",
      "2\n",
      "3\n",
      "4\n",
      "5\n"
     ]
    }
   ],
   "source": [
    "n=int(input())\n",
    "flag = True\n",
    "for p in range(4,n+1):\n",
    "  for i in range(2,int(p/2)) : \n",
    "    if p%i == 0 :\n",
    "      flag= False\n",
    "  if flag : \n",
    "    print(p)\n",
    "\n"
   ]
  },
  {
   "cell_type": "code",
   "execution_count": 5,
   "metadata": {},
   "outputs": [
    {
     "name": "stdout",
     "output_type": "stream",
     "text": [
      "10\n",
      "2\n",
      "3\n",
      "5\n",
      "7\n"
     ]
    }
   ],
   "source": [
    "n=int(input())\n",
    "prime= [True for i in range(n+1)]\n",
    "p=2\n",
    "while(p**2<n):\n",
    "    if prime[p]==True:\n",
    "        for i in range(p*2,n+1,p):\n",
    "            prime[i]=False\n",
    "    p=p+1\n",
    "for i in range(2,n):\n",
    "    if prime[i]== True :\n",
    "        print(i)"
   ]
  },
  {
   "cell_type": "code",
   "execution_count": 19,
   "metadata": {},
   "outputs": [
    {
     "name": "stdout",
     "output_type": "stream",
     "text": [
      "16\n",
      "10000\n"
     ]
    }
   ],
   "source": [
    "n=int(input())\n",
    "t=0\n",
    "i=0\n",
    "while n>=1 :\n",
    "    if n%2 :\n",
    "        t+= 10**i\n",
    "    i+=1\n",
    "    n/=2\n",
    "print(t)\n",
    "    \n"
   ]
  },
  {
   "cell_type": "code",
   "execution_count": 21,
   "metadata": {},
   "outputs": [
    {
     "name": "stdout",
     "output_type": "stream",
     "text": [
      "1000\n",
      "8\n"
     ]
    }
   ],
   "source": [
    "n=int(input())\n",
    "t=0\n",
    "i=0\n",
    "while n>=1 :\n",
    "    if n%2 :\n",
    "        t+= 2**i\n",
    "    i+=1\n",
    "    n/=10\n",
    "print(t)\n",
    "    \n",
    "\n"
   ]
  },
  {
   "cell_type": "code",
   "execution_count": 26,
   "metadata": {},
   "outputs": [
    {
     "name": "stdout",
     "output_type": "stream",
     "text": [
      "5\n",
      "0\n"
     ]
    }
   ],
   "source": [
    "n=int(input())\n",
    "c=0\n",
    "i=5\n",
    "while(n/i>=1) :\n",
    "    c += int(n/i)\n",
    "    i *= 5\n",
    "print(int(c))"
   ]
  },
  {
   "cell_type": "code",
   "execution_count": 40,
   "metadata": {},
   "outputs": [
    {
     "name": "stdout",
     "output_type": "stream",
     "text": [
      "6\n",
      "13 17 5 4 6 -1\n"
     ]
    },
    {
     "ename": "KeyboardInterrupt",
     "evalue": "",
     "output_type": "error",
     "traceback": [
      "\u001b[0;31m---------------------------------------------------------------------------\u001b[0m",
      "\u001b[0;31mKeyboardInterrupt\u001b[0m                         Traceback (most recent call last)",
      "\u001b[0;32m<ipython-input-40-b06d52aec976>\u001b[0m in \u001b[0;36m<module>\u001b[0;34m()\u001b[0m\n\u001b[1;32m      7\u001b[0m     \u001b[0mj\u001b[0m\u001b[0;34m=\u001b[0m\u001b[0mi\u001b[0m\u001b[0;34m\u001b[0m\u001b[0m\n\u001b[1;32m      8\u001b[0m     \u001b[0;32mwhile\u001b[0m\u001b[0;34m(\u001b[0m\u001b[0mj\u001b[0m\u001b[0;34m>=\u001b[0m\u001b[0;36m0\u001b[0m\u001b[0;34m)\u001b[0m\u001b[0;34m:\u001b[0m\u001b[0;34m\u001b[0m\u001b[0m\n\u001b[0;32m----> 9\u001b[0;31m         \u001b[0;32mif\u001b[0m\u001b[0;34m(\u001b[0m\u001b[0ma\u001b[0m\u001b[0;34m[\u001b[0m\u001b[0mi\u001b[0m\u001b[0;34m]\u001b[0m\u001b[0;34m>\u001b[0m\u001b[0ma\u001b[0m\u001b[0;34m[\u001b[0m\u001b[0mi\u001b[0m\u001b[0;34m-\u001b[0m\u001b[0;36m1\u001b[0m\u001b[0;34m]\u001b[0m\u001b[0;34m)\u001b[0m\u001b[0;34m:\u001b[0m\u001b[0;34m\u001b[0m\u001b[0m\n\u001b[0m\u001b[1;32m     10\u001b[0m             \u001b[0;32mcontinue\u001b[0m\u001b[0;34m\u001b[0m\u001b[0m\n\u001b[1;32m     11\u001b[0m         \u001b[0;32melse\u001b[0m \u001b[0;34m:\u001b[0m\u001b[0;34m\u001b[0m\u001b[0m\n",
      "\u001b[0;31mKeyboardInterrupt\u001b[0m: "
     ]
    }
   ],
   "source": [
    "n=int(input())\n",
    "t=[]\n",
    "a=[int(i) for i in input().split()]\n",
    "a.reverse()\n",
    "flag=1\n",
    "for i in range(1,n+1):\n",
    "    j=i\n",
    "    while(j>=0):\n",
    "        if(a[i]>a[i-1]):\n",
    "            continue\n",
    "        else :\n",
    "            flag=0\n",
    "            break\n",
    "        j=i-1\n",
    "    if flag:\n",
    "        t.insert(i,a[i])\n",
    "t.reverse()\n",
    "print(t)\n"
   ]
  },
  {
   "cell_type": "code",
   "execution_count": 8,
   "metadata": {},
   "outputs": [
    {
     "name": "stdout",
     "output_type": "stream",
     "text": [
      "5\n",
      "13 17 5 4 6\n",
      "17 6\n"
     ]
    }
   ],
   "source": [
    "n=int(input())\n",
    "a=[int(i) for i in input().split()]\n",
    "for i in range(0,n-1):\n",
    "    \n",
    "    for j in range(i+1,n):\n",
    "        if a[i]<=a[j]:\n",
    "          if j ==n-1 :\n",
    "            j=0\n",
    "          break\n",
    "        \n",
    "    if j==n-1 :\n",
    "        print(a[i],end=\" \")\n",
    "print(a[-1])"
   ]
  },
  {
   "cell_type": "code",
   "execution_count": 31,
   "metadata": {},
   "outputs": [
    {
     "name": "stdout",
     "output_type": "stream",
     "text": [
      "2 2\n",
      "1 2 3 4\n",
      "1 2  \n",
      "3 4  \n"
     ]
    }
   ],
   "source": [
    "a= input()\n",
    "b= input()\n",
    "a= a.split(\" \")\n",
    "m=int(a[0])\n",
    "n=int(a[1])\n",
    "b=b.split(\" \")\n",
    "arr = [[0 for j in range(m)] for i in range(n)]\n",
    "k=0\n",
    "for i in range(m):\n",
    "    for j in range(n):\n",
    "            arr[i][j]=int(b[k])\n",
    "            k+=1\n",
    "for l in arr :\n",
    "    for i in l:\n",
    "        print(i,end=\" \")\n",
    "    print(\" \")"
   ]
  },
  {
   "cell_type": "code",
   "execution_count": 33,
   "metadata": {},
   "outputs": [
    {
     "name": "stdout",
     "output_type": "stream",
     "text": [
      "3 3\n",
      "3 6 9 1 4 7 2 8 9\n",
      "column 2 25\n"
     ]
    }
   ],
   "source": [
    "a= input()\n",
    "b= input()\n",
    "a= a.split(\" \")\n",
    "m=int(a[0])\n",
    "n=int(a[1])\n",
    "b=b.split(\" \")\n",
    "arr = [[0 for j in range(m)] for i in range(n)]\n",
    "k=0\n",
    "for i in range(m):\n",
    "    for j in range(n):\n",
    "            arr[i][j]=int(b[k])\n",
    "            k+=1\n",
    "rmax,cmax=0,0\n",
    "rsum,csum=[0]*n,[0]*m\n",
    "\n",
    "for t in range(n):\n",
    "    \n",
    "    for i in range(m):\n",
    "        rsum[t]= rsum[t]+arr[t][i]\n",
    "    if rsum[t]>rmax:\n",
    "        rmax=rsum[t]\n",
    "        ri=t\n",
    "\n",
    "for t in range(m):\n",
    "    \n",
    "    for i in range(n):\n",
    "        csum[t]=csum[t]+arr[i][t]\n",
    "    if csum[t]>cmax:\n",
    "        cmax=csum[t]\n",
    "        ci=t\n",
    "        \n",
    "if rmax >= cmax:\n",
    "    print(\"row \", ri, rmax)\n",
    "else:\n",
    "    print(\"column\", ci, cmax)"
   ]
  },
  {
   "cell_type": "code",
   "execution_count": null,
   "metadata": {
    "collapsed": true
   },
   "outputs": [],
   "source": [
    "n=int(input())\n",
    "for i in range(0,n,2):\n",
    "    for j in range(1,n+1):\n",
    "        print(i*n+j,end=\" \")\n",
    "    print()\n",
    "reverse_first=n-1\n",
    "\n",
    "if n%2==1:\n",
    "    reverse_first-=1\n",
    "\n",
    "for i in range(reverse_first,0,-2) :\n",
    "    for j in range(1,n+1):\n",
    "        print(i*n+j,end=\" \")\n",
    "    print()"
   ]
  },
  {
   "cell_type": "code",
   "execution_count": null,
   "metadata": {
    "collapsed": true
   },
   "outputs": [],
   "source": [
    "\n",
    "MAX_CHARS = 26\n",
    " \n",
    "def isValid(count, k):\n",
    "    val = 0\n",
    "    for i in xrange(MAX_CHARS):\n",
    "        if count[i] > 0:\n",
    "            val += 1\n",
    " \n",
    "    # Return true if k is greater than or equal to val\n",
    "    return (k >= val)\n",
    " \n",
    "\n",
    "def kUniques(s, k):\n",
    "    u = 0   # number of unique characters\n",
    "    n = len(s)\n",
    " \n",
    "    # Associative array to store the count\n",
    "    count = [0] * MAX_CHARS\n",
    " \n",
    "    # Tranverse the string, fills the associative array\n",
    "    # count[] and count number of unique characters\n",
    "    for i in xrange(n):\n",
    "        if count[ord(s[i])-ord('a')] == 0:\n",
    "            u += 1\n",
    "        count[ord(s[i])-ord('a')] += 1\n",
    " \n",
    "    # If there are not enough unique characters, show\n",
    "    # an error message.\n",
    "    if u < k:\n",
    "        print \"Not enough unique characters\"\n",
    "        return\n",
    " \n",
    "    # Otherwise take a window with first element in it.\n",
    "    # start and end variables.\n",
    "    curr_start = 0\n",
    "    curr_end = 0\n",
    " \n",
    "    # Also initialize values for result longest window\n",
    "    max_window_size = 1\n",
    "    max_window_start = 0\n",
    " \n",
    "    # Initialize associative array count[] with zero\n",
    "    count = [0] * len(count)\n",
    " \n",
    "    count[ord(s[0])-ord('a')] += 1  # put the first character\n",
    " \n",
    "    # Start from the second character and add\n",
    "    # characters in window according to above\n",
    "    # explanation\n",
    "    for i in xrange(1,n):\n",
    "        # Add the character 's[i]' to current window\n",
    "        count[ord(s[i])-ord('a')] += 1\n",
    "        curr_end+=1\n",
    " \n",
    "        # If there are more than k unique characters in\n",
    "        # current window, remove from left side\n",
    "        while not isValid(count, k):\n",
    "            count[ord(s[curr_start])-ord('a')] -= 1\n",
    "            curr_start += 1\n",
    " \n",
    "        # Update the max window size if required\n",
    "        if curr_end-curr_start+1 > max_window_size:\n",
    "            max_window_size = curr_end-curr_start+1\n",
    "            max_window_start = curr_start\n",
    " \n",
    "    print \"Max substring is : \" + s[max_window_start:] \\\n",
    "            + \" with length \" + str(max_window_size)\n",
    " \n",
    "# Driver function\n",
    "s = \"aabacbebebe\"\n",
    "k = 3\n",
    "kUniques(s, k)\n"
   ]
  },
  {
   "cell_type": "code",
   "execution_count": 35,
   "metadata": {},
   "outputs": [
    {
     "name": "stdout",
     "output_type": "stream",
     "text": [
      " 4 4 1 2 3 4 5 6 7 8 9 10 11 12 13 14 15 16\n"
     ]
    },
    {
     "ename": "ValueError",
     "evalue": "invalid literal for int() with base 10: ''",
     "output_type": "error",
     "traceback": [
      "\u001b[0;31m---------------------------------------------------------------------------\u001b[0m",
      "\u001b[0;31mValueError\u001b[0m                                Traceback (most recent call last)",
      "\u001b[0;32m<ipython-input-35-84967cb2fb0d>\u001b[0m in \u001b[0;36m<module>\u001b[0;34m()\u001b[0m\n\u001b[1;32m      3\u001b[0m \u001b[0mstr\u001b[0m \u001b[0;34m=\u001b[0m \u001b[0minput\u001b[0m\u001b[0;34m(\u001b[0m\u001b[0;34m)\u001b[0m\u001b[0;34m\u001b[0m\u001b[0m\n\u001b[1;32m      4\u001b[0m \u001b[0mstr\u001b[0m \u001b[0;34m=\u001b[0m \u001b[0mstr\u001b[0m\u001b[0;34m.\u001b[0m\u001b[0msplit\u001b[0m\u001b[0;34m(\u001b[0m\u001b[0;34m\" \"\u001b[0m\u001b[0;34m)\u001b[0m\u001b[0;34m\u001b[0m\u001b[0m\n\u001b[0;32m----> 5\u001b[0;31m \u001b[0mrows\u001b[0m \u001b[0;34m=\u001b[0m \u001b[0mint\u001b[0m\u001b[0;34m(\u001b[0m\u001b[0mstr\u001b[0m\u001b[0;34m[\u001b[0m\u001b[0;36m0\u001b[0m\u001b[0;34m]\u001b[0m\u001b[0;34m)\u001b[0m\u001b[0;34m\u001b[0m\u001b[0m\n\u001b[0m\u001b[1;32m      6\u001b[0m \u001b[0mcolumns\u001b[0m \u001b[0;34m=\u001b[0m \u001b[0mint\u001b[0m\u001b[0;34m(\u001b[0m\u001b[0mstr\u001b[0m\u001b[0;34m[\u001b[0m\u001b[0;36m1\u001b[0m\u001b[0;34m]\u001b[0m\u001b[0;34m)\u001b[0m\u001b[0;34m\u001b[0m\u001b[0m\n\u001b[1;32m      7\u001b[0m \u001b[0marr\u001b[0m \u001b[0;34m=\u001b[0m \u001b[0;34m[\u001b[0m\u001b[0;34m[\u001b[0m\u001b[0;36m0\u001b[0m \u001b[0;32mfor\u001b[0m \u001b[0mj\u001b[0m \u001b[0;32min\u001b[0m \u001b[0mrange\u001b[0m\u001b[0;34m(\u001b[0m\u001b[0mrows\u001b[0m\u001b[0;34m)\u001b[0m\u001b[0;34m]\u001b[0m \u001b[0;32mfor\u001b[0m \u001b[0mi\u001b[0m \u001b[0;32min\u001b[0m \u001b[0mrange\u001b[0m\u001b[0;34m(\u001b[0m\u001b[0mcolumns\u001b[0m\u001b[0;34m)\u001b[0m\u001b[0;34m]\u001b[0m\u001b[0;34m\u001b[0m\u001b[0m\n",
      "\u001b[0;31mValueError\u001b[0m: invalid literal for int() with base 10: ''"
     ]
    }
   ],
   "source": [
    "#spiral problem\n",
    "\n",
    "str = input()\n",
    "str = str.split(\" \")\n",
    "rows = int(str[0])\n",
    "columns = int(str[1])\n",
    "arr = [[0 for j in range(rows)] for i in range(columns)]\n",
    "k=2\n",
    "for i in range(rows):\n",
    "    for j in range(columns):\n",
    "            arr[i][j]=int(a[k])\n",
    "            k+=1\n",
    "            \n",
    "for i in range(0,columns,2):\n",
    "    for j in range(rows-1,0,-2):\n",
    "        print(a[i][j],end=\" \")\n",
    "    print()\n",
    "\n",
    "\n",
    "for i in range(columns-1,0,-2) :\n",
    "    for j in range(1,rows+1,2):\n",
    "        print(a[i][j],end=\" \")\n",
    "    print()\n",
    "\n",
    "            \n"
   ]
  },
  {
   "cell_type": "code",
   "execution_count": null,
   "metadata": {
    "collapsed": true
   },
   "outputs": [],
   "source": []
  }
 ],
 "metadata": {
  "kernelspec": {
   "display_name": "Python 3",
   "language": "python",
   "name": "python3"
  },
  "language_info": {
   "codemirror_mode": {
    "name": "ipython",
    "version": 3
   },
   "file_extension": ".py",
   "mimetype": "text/x-python",
   "name": "python",
   "nbconvert_exporter": "python",
   "pygments_lexer": "ipython3",
   "version": "3.6.3"
  }
 },
 "nbformat": 4,
 "nbformat_minor": 2
}
