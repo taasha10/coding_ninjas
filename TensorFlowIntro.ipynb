{
 "cells": [
  {
   "cell_type": "code",
   "execution_count": 93,
   "metadata": {
    "collapsed": true
   },
   "outputs": [],
   "source": [
    "import tensorflow as tf"
   ]
  },
  {
   "cell_type": "code",
   "execution_count": 94,
   "metadata": {},
   "outputs": [
    {
     "name": "stdout",
     "output_type": "stream",
     "text": [
      "Tensor(\"Const_50:0\", shape=(), dtype=int32)\n",
      "Tensor(\"Add_22:0\", shape=(), dtype=int32)\n",
      "5\n",
      "6 5\n"
     ]
    },
    {
     "data": {
      "text/plain": [
       "<tf.Tensor 'Const_50:0' shape=() dtype=int32>"
      ]
     },
     "execution_count": 94,
     "metadata": {},
     "output_type": "execute_result"
    }
   ],
   "source": [
    "a = tf.constant(2)\n",
    "b = tf.constant(3)\n",
    "print(a)\n",
    "sess = tf.Session()\n",
    "l = tf.add(a, b)\n",
    "print(l)\n",
    "print(sess.run(l))\n",
    "m = sess.run(a * b)\n",
    "s = sess.run(a + b)\n",
    "print(m, s)\n",
    "sess.run([a * b, a + b])\n",
    "a"
   ]
  },
  {
   "cell_type": "code",
   "execution_count": 95,
   "metadata": {},
   "outputs": [
    {
     "data": {
      "text/plain": [
       "30"
      ]
     },
     "execution_count": 95,
     "metadata": {},
     "output_type": "execute_result"
    }
   ],
   "source": [
    "x = tf.placeholder(tf.int16)\n",
    "y = tf.placeholder(tf.int16)\n",
    "add = tf.add(x, y)\n",
    "sess = tf.Session()\n",
    "sess.run(add, feed_dict={x:10, y:20})"
   ]
  },
  {
   "cell_type": "code",
   "execution_count": 96,
   "metadata": {},
   "outputs": [
    {
     "name": "stdout",
     "output_type": "stream",
     "text": [
      "[[18]]\n"
     ]
    }
   ],
   "source": [
    "matrix1 = tf.constant([[3,3]])\n",
    "matrix2 = tf.constant([[3],[3]])\n",
    "product = tf.matmul(matrix1, matrix2)\n",
    "with tf.Session() as sess:\n",
    "    p = sess.run(product)\n",
    "    print(p)\n",
    "    "
   ]
  },
  {
   "cell_type": "code",
   "execution_count": 97,
   "metadata": {},
   "outputs": [
    {
     "name": "stdout",
     "output_type": "stream",
     "text": [
      "[[18 21 24]\n",
      " [40 47 54]]\n",
      "[[28 32 36]\n",
      " [50 58 66]]\n"
     ]
    }
   ],
   "source": [
    "dummyinput = tf.constant([[1, 2], [3, 4]])\n",
    "dummyweights = tf.constant([[4, 5, 6],[7, 8, 9]])\n",
    "dummybiases = tf.constant([10,11,12])\n",
    "product = tf.matmul(dummyinput, dummyweights)\n",
    "sum1 = tf.add(product, dummybiases)\n",
    "with tf.Session() as sess:\n",
    "    p = sess.run(product)\n",
    "    print(p)\n",
    "    s = sess.run(sum1)\n",
    "    print(s)"
   ]
  },
  {
   "cell_type": "code",
   "execution_count": 98,
   "metadata": {
    "collapsed": true
   },
   "outputs": [],
   "source": [
    "from tensorflow.examples.tutorials.mnist import input_data"
   ]
  },
  {
   "cell_type": "code",
   "execution_count": 99,
   "metadata": {},
   "outputs": [
    {
     "name": "stdout",
     "output_type": "stream",
     "text": [
      "Extracting MNIST_data/train-images-idx3-ubyte.gz\n",
      "Extracting MNIST_data/train-labels-idx1-ubyte.gz\n",
      "Extracting MNIST_data/t10k-images-idx3-ubyte.gz\n",
      "Extracting MNIST_data/t10k-labels-idx1-ubyte.gz\n"
     ]
    }
   ],
   "source": [
    "mnist = input_data.read_data_sets(\"MNIST_data/\", one_hot=True)"
   ]
  },
  {
   "cell_type": "code",
   "execution_count": 100,
   "metadata": {},
   "outputs": [
    {
     "data": {
      "text/plain": [
       "(55000, 10)"
      ]
     },
     "execution_count": 100,
     "metadata": {},
     "output_type": "execute_result"
    }
   ],
   "source": [
    "mnist.train.images.shape\n",
    "mnist.train.labels.shape"
   ]
  },
  {
   "cell_type": "code",
   "execution_count": 122,
   "metadata": {},
   "outputs": [],
   "source": [
    "n_hidden_1 = 256\n",
    "n_hidden_2 = 256\n",
    "n_input = 784\n",
    "n_classes = 10\n",
    "\n",
    "weights = {\n",
    "    'h1': tf.Variable(tf.random_normal([n_input, n_hidden_1])),\n",
    "    'h2': tf.Variable(tf.random_normal([n_hidden_1, n_hidden_2])),\n",
    "    'out': tf.Variable(tf.random_normal([n_hidden_2, n_classes]), trainable=False)\n",
    "}\n",
    "\n",
    "biases = {\n",
    "    'h1': tf.Variable(tf.random_normal([n_hidden_1])),\n",
    "    'h2': tf.Variable(tf.random_normal([n_hidden_2])),\n",
    "    'out': tf.Variable(tf.random_normal([n_classes]))\n",
    "}\n"
   ]
  },
  {
   "cell_type": "code",
   "execution_count": 123,
   "metadata": {
    "collapsed": true
   },
   "outputs": [],
   "source": [
    "def mlp(x, weights, biases):\n",
    "    layer1 = tf.add(tf.matmul(x, weights['h1']), biases['h1'])\n",
    "    layer1 = tf.nn.relu(layer1)\n",
    "    \n",
    "    layer2 = tf.add(tf.matmul(layer1, weights['h2']), biases['h2'])\n",
    "    layer2 = tf.nn.relu(layer2)\n",
    "    \n",
    "    out_layer = tf.add(tf.matmul(layer2, weights['out']), biases['out'])\n",
    "    return out_layer"
   ]
  },
  {
   "cell_type": "code",
   "execution_count": 124,
   "metadata": {},
   "outputs": [
    {
     "data": {
      "text/plain": [
       "<tf.Tensor 'Add_30:0' shape=(?, 10) dtype=float32>"
      ]
     },
     "execution_count": 124,
     "metadata": {},
     "output_type": "execute_result"
    }
   ],
   "source": [
    "x = tf.placeholder(\"float\", [None, n_input])\n",
    "y = tf.placeholder(\"float\", [None, n_classes])\n",
    "pred = mlp(x, weights, biases)\n",
    "pred"
   ]
  },
  {
   "cell_type": "code",
   "execution_count": 125,
   "metadata": {},
   "outputs": [],
   "source": [
    "cost = tf.reduce_mean(tf.nn.softmax_cross_entropy_with_logits(logits=pred, labels=y))\n",
    "optimize = tf.train.AdamOptimizer(learning_rate=0.01).minimize(cost)"
   ]
  },
  {
   "cell_type": "code",
   "execution_count": 136,
   "metadata": {},
   "outputs": [
    {
     "data": {
      "text/plain": [
       "array([[-0.14305195, -1.36674094, -0.43493849, ..., -1.80883133,\n",
       "        -0.3080914 ,  0.07313408],\n",
       "       [ 0.77560836,  0.01963067, -1.33096468, ..., -1.19808269,\n",
       "        -1.25309873, -0.34445322],\n",
       "       [-0.12336285,  0.7626853 , -1.22888339, ..., -1.28816831,\n",
       "         0.41274747, -0.27915511],\n",
       "       ..., \n",
       "       [-0.32510912, -0.91568601, -0.46606162, ...,  1.20296955,\n",
       "         0.51508927,  0.47158167],\n",
       "       [ 1.02626431,  0.72868288, -1.56767404, ..., -0.3387078 ,\n",
       "         1.80937517,  1.1109215 ],\n",
       "       [ 0.80470341, -0.03381886,  1.8886019 , ...,  1.69609678,\n",
       "         0.26559997, -1.10651839]], dtype=float32)"
      ]
     },
     "execution_count": 136,
     "metadata": {},
     "output_type": "execute_result"
    }
   ],
   "source": [
    "sess = tf.Session()\n",
    "init = tf.global_variables_initializer()\n",
    "sess.run(init)\n",
    "sess.run(weights[\"out\"])"
   ]
  },
  {
   "cell_type": "code",
   "execution_count": 131,
   "metadata": {},
   "outputs": [
    {
     "name": "stdout",
     "output_type": "stream",
     "text": [
      "24587.5243435\n",
      "5408.00235936\n",
      "3213.42695972\n",
      "2261.7906509\n",
      "2048.71928626\n",
      "1826.3407236\n",
      "1607.43707831\n",
      "1601.06144383\n",
      "1271.78305398\n",
      "1493.92286433\n",
      "1346.77477298\n",
      "1201.60094269\n",
      "1163.92642067\n",
      "1121.93425646\n",
      "897.90902987\n",
      "939.053763835\n",
      "1038.84749995\n",
      "945.850463958\n",
      "674.488912277\n",
      "817.089539074\n",
      "762.022508297\n",
      "727.065790967\n",
      "797.342816015\n",
      "663.299333436\n",
      "640.712804305\n"
     ]
    }
   ],
   "source": [
    "batch_size = 100\n",
    "for i in range(25):\n",
    "    num_batches = int(mnist.train.num_examples/batch_size)\n",
    "    total_cost = 0\n",
    "    for j in range(num_batches):\n",
    "        batch_x, batch_y = mnist.train.next_batch(batch_size)\n",
    "        _ , c = sess.run([optimize, cost], feed_dict={x:batch_x, y:batch_y})\n",
    "        total_cost += c\n",
    "    print(total_cost)"
   ]
  },
  {
   "cell_type": "code",
   "execution_count": 132,
   "metadata": {},
   "outputs": [],
   "source": [
    "predictions = tf.argmax(pred, 1)\n",
    "correct_labels = tf.argmax(y, 1)\n",
    "correct_predictions = tf.equal(predictions, correct_labels)\n",
    "predictions,correct_predictions  = sess.run([predictions, correct_predictions], feed_dict={x:mnist.test.images,\n",
    "                                              y:mnist.test.labels})\n"
   ]
  },
  {
   "cell_type": "code",
   "execution_count": 134,
   "metadata": {},
   "outputs": [
    {
     "data": {
      "text/plain": [
       "291"
      ]
     },
     "execution_count": 134,
     "metadata": {},
     "output_type": "execute_result"
    }
   ],
   "source": [
    "(correct_predictions == False).sum()"
   ]
  },
  {
   "cell_type": "code",
   "execution_count": 135,
   "metadata": {},
   "outputs": [
    {
     "data": {
      "text/plain": [
       "array([[-0.63745224,  0.54393679, -1.01817393, ...,  0.13962531,\n",
       "        -0.19499145, -0.58553326],\n",
       "       [-1.07777834,  0.22162627, -1.86492717, ...,  0.04318257,\n",
       "        -0.60116941, -0.06390394],\n",
       "       [-1.26733768, -0.38340598, -0.27273902, ...,  1.18660736,\n",
       "         0.13429713,  0.29988909],\n",
       "       ..., \n",
       "       [ 2.0600841 ,  0.7561661 ,  1.03323066, ..., -0.76531082,\n",
       "        -0.77663636,  0.45948863],\n",
       "       [-0.58331132,  1.00319839, -0.02230331, ..., -0.79730892,\n",
       "        -0.10656445, -0.19078746],\n",
       "       [ 0.19489141, -0.74863994,  0.12361734, ..., -1.6110549 ,\n",
       "        -2.67997646, -0.26950741]], dtype=float32)"
      ]
     },
     "execution_count": 135,
     "metadata": {},
     "output_type": "execute_result"
    }
   ],
   "source": [
    "sess.run(weights[\"out\"])"
   ]
  }
 ],
 "metadata": {
  "anaconda-cloud": {},
  "kernelspec": {
   "display_name": "Python 3",
   "language": "python",
   "name": "python3"
  },
  "language_info": {
   "codemirror_mode": {
    "name": "ipython",
    "version": 3
   },
   "file_extension": ".py",
   "mimetype": "text/x-python",
   "name": "python",
   "nbconvert_exporter": "python",
   "pygments_lexer": "ipython3",
   "version": "3.6.3"
  }
 },
 "nbformat": 4,
 "nbformat_minor": 1
}
